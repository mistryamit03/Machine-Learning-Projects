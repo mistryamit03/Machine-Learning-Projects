{
 "cells": [
  {
   "cell_type": "code",
   "execution_count": 1,
   "metadata": {},
   "outputs": [],
   "source": [
    "import pandas as pd\n",
    "import matplotlib.pyplot as plt\n",
    "import numpy as np\n",
    "import seaborn as sns"
   ]
  },
  {
   "cell_type": "code",
   "execution_count": 2,
   "metadata": {},
   "outputs": [],
   "source": [
    "df = pd.read_csv('Trials.csv')"
   ]
  },
  {
   "cell_type": "code",
   "execution_count": 3,
   "metadata": {},
   "outputs": [
    {
     "data": {
      "text/html": [
       "<div>\n",
       "<style scoped>\n",
       "    .dataframe tbody tr th:only-of-type {\n",
       "        vertical-align: middle;\n",
       "    }\n",
       "\n",
       "    .dataframe tbody tr th {\n",
       "        vertical-align: top;\n",
       "    }\n",
       "\n",
       "    .dataframe thead th {\n",
       "        text-align: right;\n",
       "    }\n",
       "</style>\n",
       "<table border=\"1\" class=\"dataframe\">\n",
       "  <thead>\n",
       "    <tr style=\"text-align: right;\">\n",
       "      <th></th>\n",
       "      <th>id</th>\n",
       "      <th>name</th>\n",
       "      <th>screen_name</th>\n",
       "      <th>fav_number</th>\n",
       "      <th>statuses_count</th>\n",
       "      <th>followers_count</th>\n",
       "      <th>friends_count</th>\n",
       "      <th>favourites_count</th>\n",
       "      <th>listed_count</th>\n",
       "      <th>created_at</th>\n",
       "      <th>...</th>\n",
       "      <th>profile_sidebar_fill_color</th>\n",
       "      <th>profile_background_image_url</th>\n",
       "      <th>profile_background_color</th>\n",
       "      <th>profile_link_color</th>\n",
       "      <th>utc_offset</th>\n",
       "      <th>protected</th>\n",
       "      <th>verified</th>\n",
       "      <th>description</th>\n",
       "      <th>updated</th>\n",
       "      <th>dataset</th>\n",
       "    </tr>\n",
       "  </thead>\n",
       "  <tbody>\n",
       "    <tr>\n",
       "      <th>0</th>\n",
       "      <td>3610511</td>\n",
       "      <td>Davide Dellacasa</td>\n",
       "      <td>braddd</td>\n",
       "      <td>0</td>\n",
       "      <td>20370</td>\n",
       "      <td>5470</td>\n",
       "      <td>2385</td>\n",
       "      <td>145</td>\n",
       "      <td>52</td>\n",
       "      <td>Fri Apr 06 10:58:22 +0000 2007</td>\n",
       "      <td>...</td>\n",
       "      <td>FFF7CC</td>\n",
       "      <td>http://a0.twimg.com/profile_background_images/...</td>\n",
       "      <td>BADFCD</td>\n",
       "      <td>FF0000</td>\n",
       "      <td>3600.0</td>\n",
       "      <td>NaN</td>\n",
       "      <td>NaN</td>\n",
       "      <td>Founder of http://www.screenweek.it &amp; http://w...</td>\n",
       "      <td>2/14/2015 10:54</td>\n",
       "      <td>1</td>\n",
       "    </tr>\n",
       "    <tr>\n",
       "      <th>1</th>\n",
       "      <td>5656162</td>\n",
       "      <td>Simone Economo</td>\n",
       "      <td>eKoeS</td>\n",
       "      <td>68</td>\n",
       "      <td>3131</td>\n",
       "      <td>506</td>\n",
       "      <td>381</td>\n",
       "      <td>9</td>\n",
       "      <td>40</td>\n",
       "      <td>Mon Apr 30 15:08:42 +0000 2007</td>\n",
       "      <td>...</td>\n",
       "      <td>DDEEF6</td>\n",
       "      <td>http://a0.twimg.com/images/themes/theme1/bg.png</td>\n",
       "      <td>C0DEED</td>\n",
       "      <td>0084B4</td>\n",
       "      <td>3600.0</td>\n",
       "      <td>NaN</td>\n",
       "      <td>NaN</td>\n",
       "      <td>BSc degree (cum laude) in Computer Engineering...</td>\n",
       "      <td>2/14/2015 10:54</td>\n",
       "      <td>1</td>\n",
       "    </tr>\n",
       "  </tbody>\n",
       "</table>\n",
       "<p>2 rows × 35 columns</p>\n",
       "</div>"
      ],
      "text/plain": [
       "        id              name screen_name  fav_number  statuses_count  \\\n",
       "0  3610511  Davide Dellacasa      braddd           0           20370   \n",
       "1  5656162    Simone Economo       eKoeS          68            3131   \n",
       "\n",
       "   followers_count  friends_count  favourites_count  listed_count  \\\n",
       "0             5470           2385               145            52   \n",
       "1              506            381                 9            40   \n",
       "\n",
       "                       created_at  ... profile_sidebar_fill_color  \\\n",
       "0  Fri Apr 06 10:58:22 +0000 2007  ...                     FFF7CC   \n",
       "1  Mon Apr 30 15:08:42 +0000 2007  ...                     DDEEF6   \n",
       "\n",
       "                        profile_background_image_url profile_background_color  \\\n",
       "0  http://a0.twimg.com/profile_background_images/...                   BADFCD   \n",
       "1    http://a0.twimg.com/images/themes/theme1/bg.png                   C0DEED   \n",
       "\n",
       "  profile_link_color  utc_offset  protected  verified  \\\n",
       "0             FF0000      3600.0        NaN       NaN   \n",
       "1             0084B4      3600.0        NaN       NaN   \n",
       "\n",
       "                                         description          updated  dataset  \n",
       "0  Founder of http://www.screenweek.it & http://w...  2/14/2015 10:54        1  \n",
       "1  BSc degree (cum laude) in Computer Engineering...  2/14/2015 10:54        1  \n",
       "\n",
       "[2 rows x 35 columns]"
      ]
     },
     "execution_count": 3,
     "metadata": {},
     "output_type": "execute_result"
    }
   ],
   "source": [
    "df.head(2)"
   ]
  },
  {
   "cell_type": "code",
   "execution_count": 4,
   "metadata": {},
   "outputs": [
    {
     "data": {
      "text/plain": [
       "1    1481\n",
       "2    1337\n",
       "Name: dataset, dtype: int64"
      ]
     },
     "execution_count": 4,
     "metadata": {},
     "output_type": "execute_result"
    }
   ],
   "source": [
    "df['dataset'].value_counts()"
   ]
  },
  {
   "cell_type": "code",
   "execution_count": 5,
   "metadata": {},
   "outputs": [],
   "source": [
    "real_df = df[df['dataset']==1][0:200]\n",
    "fake_df = df[df['dataset']==2][0:200]"
   ]
  },
  {
   "cell_type": "code",
   "execution_count": 6,
   "metadata": {},
   "outputs": [],
   "source": [
    "df['created_at'] = pd.to_datetime(df.created_at)"
   ]
  },
  {
   "cell_type": "code",
   "execution_count": 7,
   "metadata": {},
   "outputs": [],
   "source": [
    "df['Month'] = df.created_at.dt.month"
   ]
  },
  {
   "cell_type": "code",
   "execution_count": 8,
   "metadata": {},
   "outputs": [],
   "source": [
    "df['Year'] = df.created_at.dt.year"
   ]
  },
  {
   "cell_type": "code",
   "execution_count": 9,
   "metadata": {},
   "outputs": [],
   "source": [
    "df['Time'] = df.created_at.dt.time"
   ]
  },
  {
   "cell_type": "code",
   "execution_count": 10,
   "metadata": {},
   "outputs": [
    {
     "data": {
      "text/html": [
       "<div>\n",
       "<style scoped>\n",
       "    .dataframe tbody tr th:only-of-type {\n",
       "        vertical-align: middle;\n",
       "    }\n",
       "\n",
       "    .dataframe tbody tr th {\n",
       "        vertical-align: top;\n",
       "    }\n",
       "\n",
       "    .dataframe thead th {\n",
       "        text-align: right;\n",
       "    }\n",
       "</style>\n",
       "<table border=\"1\" class=\"dataframe\">\n",
       "  <thead>\n",
       "    <tr style=\"text-align: right;\">\n",
       "      <th></th>\n",
       "      <th>id</th>\n",
       "      <th>name</th>\n",
       "      <th>screen_name</th>\n",
       "      <th>fav_number</th>\n",
       "      <th>statuses_count</th>\n",
       "      <th>followers_count</th>\n",
       "      <th>friends_count</th>\n",
       "      <th>favourites_count</th>\n",
       "      <th>listed_count</th>\n",
       "      <th>created_at</th>\n",
       "      <th>...</th>\n",
       "      <th>profile_link_color</th>\n",
       "      <th>utc_offset</th>\n",
       "      <th>protected</th>\n",
       "      <th>verified</th>\n",
       "      <th>description</th>\n",
       "      <th>updated</th>\n",
       "      <th>dataset</th>\n",
       "      <th>Month</th>\n",
       "      <th>Year</th>\n",
       "      <th>Time</th>\n",
       "    </tr>\n",
       "  </thead>\n",
       "  <tbody>\n",
       "    <tr>\n",
       "      <th>0</th>\n",
       "      <td>3610511</td>\n",
       "      <td>Davide Dellacasa</td>\n",
       "      <td>braddd</td>\n",
       "      <td>0</td>\n",
       "      <td>20370</td>\n",
       "      <td>5470</td>\n",
       "      <td>2385</td>\n",
       "      <td>145</td>\n",
       "      <td>52</td>\n",
       "      <td>2007-04-06 10:58:22+00:00</td>\n",
       "      <td>...</td>\n",
       "      <td>FF0000</td>\n",
       "      <td>3600.0</td>\n",
       "      <td>NaN</td>\n",
       "      <td>NaN</td>\n",
       "      <td>Founder of http://www.screenweek.it &amp; http://w...</td>\n",
       "      <td>2/14/2015 10:54</td>\n",
       "      <td>1</td>\n",
       "      <td>4</td>\n",
       "      <td>2007</td>\n",
       "      <td>10:58:22</td>\n",
       "    </tr>\n",
       "    <tr>\n",
       "      <th>1</th>\n",
       "      <td>5656162</td>\n",
       "      <td>Simone Economo</td>\n",
       "      <td>eKoeS</td>\n",
       "      <td>68</td>\n",
       "      <td>3131</td>\n",
       "      <td>506</td>\n",
       "      <td>381</td>\n",
       "      <td>9</td>\n",
       "      <td>40</td>\n",
       "      <td>2007-04-30 15:08:42+00:00</td>\n",
       "      <td>...</td>\n",
       "      <td>0084B4</td>\n",
       "      <td>3600.0</td>\n",
       "      <td>NaN</td>\n",
       "      <td>NaN</td>\n",
       "      <td>BSc degree (cum laude) in Computer Engineering...</td>\n",
       "      <td>2/14/2015 10:54</td>\n",
       "      <td>1</td>\n",
       "      <td>4</td>\n",
       "      <td>2007</td>\n",
       "      <td>15:08:42</td>\n",
       "    </tr>\n",
       "  </tbody>\n",
       "</table>\n",
       "<p>2 rows × 38 columns</p>\n",
       "</div>"
      ],
      "text/plain": [
       "        id              name screen_name  fav_number  statuses_count  \\\n",
       "0  3610511  Davide Dellacasa      braddd           0           20370   \n",
       "1  5656162    Simone Economo       eKoeS          68            3131   \n",
       "\n",
       "   followers_count  friends_count  favourites_count  listed_count  \\\n",
       "0             5470           2385               145            52   \n",
       "1              506            381                 9            40   \n",
       "\n",
       "                 created_at  ... profile_link_color utc_offset protected  \\\n",
       "0 2007-04-06 10:58:22+00:00  ...             FF0000     3600.0       NaN   \n",
       "1 2007-04-30 15:08:42+00:00  ...             0084B4     3600.0       NaN   \n",
       "\n",
       "  verified                                        description  \\\n",
       "0      NaN  Founder of http://www.screenweek.it & http://w...   \n",
       "1      NaN  BSc degree (cum laude) in Computer Engineering...   \n",
       "\n",
       "           updated  dataset Month  Year      Time  \n",
       "0  2/14/2015 10:54        1     4  2007  10:58:22  \n",
       "1  2/14/2015 10:54        1     4  2007  15:08:42  \n",
       "\n",
       "[2 rows x 38 columns]"
      ]
     },
     "execution_count": 10,
     "metadata": {},
     "output_type": "execute_result"
    }
   ],
   "source": [
    "df.head(2)"
   ]
  },
  {
   "cell_type": "markdown",
   "metadata": {},
   "source": [
    "# Label Encoding "
   ]
  },
  {
   "cell_type": "code",
   "execution_count": 11,
   "metadata": {},
   "outputs": [],
   "source": [
    "from sklearn import preprocessing"
   ]
  },
  {
   "cell_type": "code",
   "execution_count": 12,
   "metadata": {},
   "outputs": [],
   "source": [
    "le = preprocessing.LabelEncoder()"
   ]
  },
  {
   "cell_type": "code",
   "execution_count": 13,
   "metadata": {},
   "outputs": [
    {
     "data": {
      "text/plain": [
       "LabelEncoder()"
      ]
     },
     "execution_count": 13,
     "metadata": {},
     "output_type": "execute_result"
    }
   ],
   "source": [
    "le.fit(df['screen_name'])"
   ]
  },
  {
   "cell_type": "code",
   "execution_count": 14,
   "metadata": {},
   "outputs": [],
   "source": [
    "df['screen_name'] = le.transform(df['screen_name'])"
   ]
  },
  {
   "cell_type": "code",
   "execution_count": 15,
   "metadata": {},
   "outputs": [
    {
     "data": {
      "text/plain": [
       "LabelEncoder()"
      ]
     },
     "execution_count": 15,
     "metadata": {},
     "output_type": "execute_result"
    }
   ],
   "source": [
    "le.fit(df['name'])"
   ]
  },
  {
   "cell_type": "code",
   "execution_count": 16,
   "metadata": {},
   "outputs": [],
   "source": [
    "df['name'] = le.transform(df['name'])"
   ]
  },
  {
   "cell_type": "code",
   "execution_count": 17,
   "metadata": {},
   "outputs": [
    {
     "data": {
      "text/plain": [
       "LabelEncoder()"
      ]
     },
     "execution_count": 17,
     "metadata": {},
     "output_type": "execute_result"
    }
   ],
   "source": [
    "le.fit(df['Time'])"
   ]
  },
  {
   "cell_type": "code",
   "execution_count": 18,
   "metadata": {},
   "outputs": [],
   "source": [
    "df['Time'] = le.transform(df['Time'])"
   ]
  },
  {
   "cell_type": "markdown",
   "metadata": {},
   "source": [
    "# Feature Engineering "
   ]
  },
  {
   "cell_type": "code",
   "execution_count": 19,
   "metadata": {},
   "outputs": [
    {
     "data": {
      "text/plain": [
       "Index(['id', 'name', 'screen_name', 'fav_number', 'statuses_count',\n",
       "       'followers_count', 'friends_count', 'favourites_count', 'listed_count',\n",
       "       'created_at', 'url', 'lang', 'time_zone', 'location', 'default_profile',\n",
       "       'default_profile_image', 'geo_enabled', 'profile_image_url',\n",
       "       'profile_banner_url', 'profile_use_background_image',\n",
       "       'profile_background_image_url_https', 'profile_text_color',\n",
       "       'profile_image_url_https', 'profile_sidebar_border_color',\n",
       "       'profile_background_tile', 'profile_sidebar_fill_color',\n",
       "       'profile_background_image_url', 'profile_background_color',\n",
       "       'profile_link_color', 'utc_offset', 'protected', 'verified',\n",
       "       'description', 'updated', 'dataset', 'Month', 'Year', 'Time'],\n",
       "      dtype='object')"
      ]
     },
     "execution_count": 19,
     "metadata": {},
     "output_type": "execute_result"
    }
   ],
   "source": [
    "df.columns"
   ]
  },
  {
   "cell_type": "code",
   "execution_count": 55,
   "metadata": {},
   "outputs": [],
   "source": [
    "features_df = df[['name', 'screen_name', 'fav_number', 'statuses_count','followers_count', 'friends_count', 'favourites_count', 'listed_count', 'Year', 'Month', 'Time']]"
   ]
  },
  {
   "cell_type": "code",
   "execution_count": 56,
   "metadata": {},
   "outputs": [
    {
     "data": {
      "text/plain": [
       "Index(['name', 'screen_name', 'fav_number', 'statuses_count',\n",
       "       'followers_count', 'friends_count', 'favourites_count', 'listed_count',\n",
       "       'Year', 'Month', 'Time'],\n",
       "      dtype='object')"
      ]
     },
     "execution_count": 56,
     "metadata": {},
     "output_type": "execute_result"
    }
   ],
   "source": [
    "features_df.columns"
   ]
  },
  {
   "cell_type": "code",
   "execution_count": 57,
   "metadata": {},
   "outputs": [],
   "source": [
    "X = np.asarray(features_df)"
   ]
  },
  {
   "cell_type": "code",
   "execution_count": 58,
   "metadata": {},
   "outputs": [],
   "source": [
    "y = np.asarray(df['dataset'])"
   ]
  },
  {
   "cell_type": "code",
   "execution_count": 59,
   "metadata": {},
   "outputs": [
    {
     "data": {
      "text/plain": [
       "array([[  573,  1106,     0, 20370,  5470,  2385,   145,    52,  2007,\n",
       "            4,   763],\n",
       "       [ 2251,  1409,    68,  3131,   506,   381,     9,    40,  2007,\n",
       "            4,  1282],\n",
       "       [ 2767,  2626,  7696,  4024,   264,    87,   323,    16,  2007,\n",
       "            5,   872],\n",
       "       [ 2527,   942,   202, 40586,   640,   622,  1118,    32,  2007,\n",
       "            5,  1880],\n",
       "       [  157,   680, 37318,  2016,    62,    64,    13,     0,  2007,\n",
       "            5,  2257],\n",
       "       [  327,  1291,  3901,  3603,   138,   179,    53,     1,  2007,\n",
       "            5,  1299]], dtype=int64)"
      ]
     },
     "execution_count": 59,
     "metadata": {},
     "output_type": "execute_result"
    }
   ],
   "source": [
    "X[0:6]"
   ]
  },
  {
   "cell_type": "markdown",
   "metadata": {},
   "source": [
    "# Train Test Split"
   ]
  },
  {
   "cell_type": "code",
   "execution_count": 60,
   "metadata": {},
   "outputs": [],
   "source": [
    "from sklearn.model_selection import train_test_split"
   ]
  },
  {
   "cell_type": "code",
   "execution_count": 61,
   "metadata": {},
   "outputs": [],
   "source": [
    "X_train,X_test, y_train,y_test = train_test_split(X,y, test_size = 0.2, random_state = 4)"
   ]
  },
  {
   "cell_type": "markdown",
   "metadata": {},
   "source": [
    "# Importing the XGBoost Model Method 1"
   ]
  },
  {
   "cell_type": "code",
   "execution_count": 62,
   "metadata": {},
   "outputs": [],
   "source": [
    "import xgboost as xgb"
   ]
  },
  {
   "cell_type": "code",
   "execution_count": 63,
   "metadata": {},
   "outputs": [],
   "source": [
    "train = xgb.DMatrix(X_train, label= y_train)\n",
    "test = xgb.DMatrix(X_test, label=y_test)"
   ]
  },
  {
   "cell_type": "code",
   "execution_count": null,
   "metadata": {},
   "outputs": [],
   "source": []
  },
  {
   "cell_type": "code",
   "execution_count": 64,
   "metadata": {},
   "outputs": [],
   "source": [
    "param = {'max_depth':4, 'eta':0.3,'num_class':3}\n",
    "epochs = 10"
   ]
  },
  {
   "cell_type": "code",
   "execution_count": 65,
   "metadata": {},
   "outputs": [],
   "source": [
    "model = xgb.train(param,train, epochs)"
   ]
  },
  {
   "cell_type": "code",
   "execution_count": 66,
   "metadata": {},
   "outputs": [
    {
     "data": {
      "text/plain": [
       "array([1, 2], dtype=int64)"
      ]
     },
     "execution_count": 66,
     "metadata": {},
     "output_type": "execute_result"
    }
   ],
   "source": [
    "df['dataset'].unique()"
   ]
  },
  {
   "cell_type": "code",
   "execution_count": 67,
   "metadata": {},
   "outputs": [],
   "source": [
    "predictions = model.predict(test)"
   ]
  },
  {
   "cell_type": "code",
   "execution_count": 68,
   "metadata": {},
   "outputs": [
    {
     "name": "stdout",
     "output_type": "stream",
     "text": [
      "[2. 1. 1. 2. 1. 1. 1. 1. 2. 1. 1. 2. 2. 1. 2. 2. 2. 1. 1. 2. 1. 1. 1. 1.\n",
      " 2. 1. 2. 1. 1. 1. 2. 1. 1. 1. 2. 2. 2. 1. 2. 2. 1. 1. 1. 2. 1. 2. 1. 1.\n",
      " 1. 1. 1. 2. 1. 1. 1. 1. 1. 2. 1. 1. 1. 1. 2. 1. 2. 1. 1. 1. 2. 1. 2. 2.\n",
      " 2. 1. 2. 1. 1. 2. 1. 2. 1. 1. 1. 2. 1. 1. 1. 1. 2. 1. 2. 1. 1. 2. 1. 1.\n",
      " 2. 1. 1. 2. 1. 1. 1. 1. 1. 2. 1. 1. 2. 1. 1. 2. 2. 2. 2. 2. 2. 1. 2. 1.\n",
      " 2. 1. 2. 2. 2. 2. 1. 1. 2. 2. 2. 2. 1. 2. 1. 1. 1. 2. 1. 1. 2. 1. 1. 2.\n",
      " 2. 1. 1. 2. 2. 1. 2. 2. 2. 2. 1. 2. 1. 1. 2. 1. 2. 2. 2. 2. 1. 2. 2. 2.\n",
      " 2. 1. 2. 1. 2. 2. 2. 1. 1. 1. 1. 1. 1. 2. 2. 2. 2. 2. 1. 2. 2. 2. 2. 2.\n",
      " 1. 1. 1. 1. 1. 1. 1. 1. 2. 1. 1. 1. 1. 1. 2. 2. 1. 1. 2. 2. 1. 1. 2. 2.\n",
      " 1. 1. 2. 1. 2. 2. 1. 1. 2. 2. 2. 1. 2. 1. 2. 2. 2. 2. 1. 1. 2. 2. 2. 2.\n",
      " 2. 2. 2. 2. 1. 2. 1. 2. 1. 2. 1. 2. 1. 2. 1. 1. 1. 1. 2. 1. 2. 1. 2. 2.\n",
      " 2. 1. 2. 1. 1. 1. 1. 2. 2. 2. 2. 2. 1. 2. 1. 2. 1. 1. 1. 1. 1. 2. 1. 2.\n",
      " 1. 2. 2. 1. 2. 2. 1. 2. 1. 1. 1. 2. 2. 2. 1. 1. 1. 1. 1. 1. 2. 1. 1. 2.\n",
      " 1. 2. 2. 1. 2. 1. 1. 2. 2. 1. 2. 2. 1. 1. 2. 1. 1. 1. 1. 2. 1. 2. 1. 2.\n",
      " 2. 2. 2. 2. 1. 2. 1. 1. 1. 1. 1. 1. 1. 2. 1. 2. 2. 1. 2. 2. 2. 2. 1. 1.\n",
      " 2. 1. 2. 1. 1. 2. 1. 2. 1. 1. 1. 1. 1. 2. 1. 2. 2. 2. 2. 2. 1. 1. 1. 1.\n",
      " 2. 1. 1. 2. 1. 2. 2. 2. 1. 1. 2. 1. 1. 2. 1. 1. 1. 1. 1. 2. 2. 2. 1. 2.\n",
      " 1. 2. 1. 2. 2. 2. 2. 2. 1. 2. 2. 2. 2. 1. 2. 1. 2. 1. 1. 1. 1. 1. 1. 1.\n",
      " 2. 1. 2. 1. 1. 1. 2. 2. 2. 1. 2. 1. 1. 1. 2. 1. 2. 2. 1. 1. 1. 1. 1. 2.\n",
      " 2. 1. 1. 1. 1. 2. 2. 2. 1. 1. 2. 2. 1. 1. 2. 2. 1. 1. 2. 2. 1. 1. 2. 1.\n",
      " 1. 1. 2. 2. 2. 1. 2. 1. 1. 1. 1. 2. 1. 2. 1. 2. 2. 1. 1. 2. 1. 2. 2. 1.\n",
      " 1. 2. 2. 1. 2. 1. 1. 1. 1. 2. 2. 2. 2. 2. 2. 1. 1. 1. 2. 2. 1. 1. 1. 1.\n",
      " 1. 2. 2. 2. 2. 1. 1. 2. 1. 2. 2. 2. 2. 2. 2. 2. 2. 1. 2. 2. 1. 2. 2. 2.\n",
      " 2. 1. 2. 1. 2. 1. 1. 1. 1. 2. 1. 2.]\n"
     ]
    }
   ],
   "source": [
    "print(predictions)"
   ]
  },
  {
   "cell_type": "code",
   "execution_count": 69,
   "metadata": {},
   "outputs": [],
   "source": [
    "from sklearn.metrics import classification_report, accuracy_score,confusion_matrix "
   ]
  },
  {
   "cell_type": "code",
   "execution_count": 70,
   "metadata": {},
   "outputs": [
    {
     "data": {
      "text/plain": [
       "0.9911347517730497"
      ]
     },
     "execution_count": 70,
     "metadata": {},
     "output_type": "execute_result"
    }
   ],
   "source": [
    "accuracy_score (y_test, predictions)"
   ]
  },
  {
   "cell_type": "code",
   "execution_count": 54,
   "metadata": {},
   "outputs": [
    {
     "name": "stdout",
     "output_type": "stream",
     "text": [
      "              precision    recall  f1-score   support\n",
      "\n",
      "           1       1.00      0.99      0.99       298\n",
      "           2       0.99      1.00      0.99       266\n",
      "\n",
      "    accuracy                           0.99       564\n",
      "   macro avg       0.99      0.99      0.99       564\n",
      "weighted avg       0.99      0.99      0.99       564\n",
      "\n"
     ]
    }
   ],
   "source": [
    "print(classification_report(y_test, predictions))"
   ]
  },
  {
   "cell_type": "code",
   "execution_count": 37,
   "metadata": {},
   "outputs": [
    {
     "name": "stdout",
     "output_type": "stream",
     "text": [
      "[[298   0]\n",
      " [  1 265]]\n"
     ]
    }
   ],
   "source": [
    "print(confusion_matrix(y_test, predictions))"
   ]
  },
  {
   "cell_type": "markdown",
   "metadata": {},
   "source": [
    "# Importing the XGBoost Model Method 2"
   ]
  },
  {
   "cell_type": "code",
   "execution_count": null,
   "metadata": {},
   "outputs": [],
   "source": []
  }
 ],
 "metadata": {
  "kernelspec": {
   "display_name": "Python 3",
   "language": "python",
   "name": "python3"
  },
  "language_info": {
   "codemirror_mode": {
    "name": "ipython",
    "version": 3
   },
   "file_extension": ".py",
   "mimetype": "text/x-python",
   "name": "python",
   "nbconvert_exporter": "python",
   "pygments_lexer": "ipython3",
   "version": "3.7.6"
  }
 },
 "nbformat": 4,
 "nbformat_minor": 4
}
