{
 "cells": [
  {
   "cell_type": "code",
   "execution_count": 1,
   "metadata": {},
   "outputs": [],
   "source": [
    "import pandas as pd\n",
    "import matplotlib.pyplot as plt\n",
    "import numpy as np\n",
    "import seaborn as sns"
   ]
  },
  {
   "cell_type": "code",
   "execution_count": 2,
   "metadata": {},
   "outputs": [],
   "source": [
    "df = pd.read_csv('Trials.csv')"
   ]
  },
  {
   "cell_type": "code",
   "execution_count": 3,
   "metadata": {},
   "outputs": [
    {
     "data": {
      "text/html": [
       "<div>\n",
       "<style scoped>\n",
       "    .dataframe tbody tr th:only-of-type {\n",
       "        vertical-align: middle;\n",
       "    }\n",
       "\n",
       "    .dataframe tbody tr th {\n",
       "        vertical-align: top;\n",
       "    }\n",
       "\n",
       "    .dataframe thead th {\n",
       "        text-align: right;\n",
       "    }\n",
       "</style>\n",
       "<table border=\"1\" class=\"dataframe\">\n",
       "  <thead>\n",
       "    <tr style=\"text-align: right;\">\n",
       "      <th></th>\n",
       "      <th>id</th>\n",
       "      <th>name</th>\n",
       "      <th>screen_name</th>\n",
       "      <th>fav_number</th>\n",
       "      <th>statuses_count</th>\n",
       "      <th>followers_count</th>\n",
       "      <th>friends_count</th>\n",
       "      <th>favourites_count</th>\n",
       "      <th>listed_count</th>\n",
       "      <th>created_at</th>\n",
       "      <th>...</th>\n",
       "      <th>profile_sidebar_fill_color</th>\n",
       "      <th>profile_background_image_url</th>\n",
       "      <th>profile_background_color</th>\n",
       "      <th>profile_link_color</th>\n",
       "      <th>utc_offset</th>\n",
       "      <th>protected</th>\n",
       "      <th>verified</th>\n",
       "      <th>description</th>\n",
       "      <th>updated</th>\n",
       "      <th>dataset</th>\n",
       "    </tr>\n",
       "  </thead>\n",
       "  <tbody>\n",
       "    <tr>\n",
       "      <th>0</th>\n",
       "      <td>3610511</td>\n",
       "      <td>Davide Dellacasa</td>\n",
       "      <td>braddd</td>\n",
       "      <td>0</td>\n",
       "      <td>20370</td>\n",
       "      <td>5470</td>\n",
       "      <td>2385</td>\n",
       "      <td>145</td>\n",
       "      <td>52</td>\n",
       "      <td>Fri Apr 06 10:58:22 +0000 2007</td>\n",
       "      <td>...</td>\n",
       "      <td>FFF7CC</td>\n",
       "      <td>http://a0.twimg.com/profile_background_images/...</td>\n",
       "      <td>BADFCD</td>\n",
       "      <td>FF0000</td>\n",
       "      <td>3600.0</td>\n",
       "      <td>NaN</td>\n",
       "      <td>NaN</td>\n",
       "      <td>Founder of http://www.screenweek.it &amp; http://w...</td>\n",
       "      <td>2/14/2015 10:54</td>\n",
       "      <td>1</td>\n",
       "    </tr>\n",
       "    <tr>\n",
       "      <th>1</th>\n",
       "      <td>5656162</td>\n",
       "      <td>Simone Economo</td>\n",
       "      <td>eKoeS</td>\n",
       "      <td>68</td>\n",
       "      <td>3131</td>\n",
       "      <td>506</td>\n",
       "      <td>381</td>\n",
       "      <td>9</td>\n",
       "      <td>40</td>\n",
       "      <td>Mon Apr 30 15:08:42 +0000 2007</td>\n",
       "      <td>...</td>\n",
       "      <td>DDEEF6</td>\n",
       "      <td>http://a0.twimg.com/images/themes/theme1/bg.png</td>\n",
       "      <td>C0DEED</td>\n",
       "      <td>0084B4</td>\n",
       "      <td>3600.0</td>\n",
       "      <td>NaN</td>\n",
       "      <td>NaN</td>\n",
       "      <td>BSc degree (cum laude) in Computer Engineering...</td>\n",
       "      <td>2/14/2015 10:54</td>\n",
       "      <td>1</td>\n",
       "    </tr>\n",
       "  </tbody>\n",
       "</table>\n",
       "<p>2 rows × 35 columns</p>\n",
       "</div>"
      ],
      "text/plain": [
       "        id              name screen_name  fav_number  statuses_count  \\\n",
       "0  3610511  Davide Dellacasa      braddd           0           20370   \n",
       "1  5656162    Simone Economo       eKoeS          68            3131   \n",
       "\n",
       "   followers_count  friends_count  favourites_count  listed_count  \\\n",
       "0             5470           2385               145            52   \n",
       "1              506            381                 9            40   \n",
       "\n",
       "                       created_at  ... profile_sidebar_fill_color  \\\n",
       "0  Fri Apr 06 10:58:22 +0000 2007  ...                     FFF7CC   \n",
       "1  Mon Apr 30 15:08:42 +0000 2007  ...                     DDEEF6   \n",
       "\n",
       "                        profile_background_image_url profile_background_color  \\\n",
       "0  http://a0.twimg.com/profile_background_images/...                   BADFCD   \n",
       "1    http://a0.twimg.com/images/themes/theme1/bg.png                   C0DEED   \n",
       "\n",
       "  profile_link_color  utc_offset  protected  verified  \\\n",
       "0             FF0000      3600.0        NaN       NaN   \n",
       "1             0084B4      3600.0        NaN       NaN   \n",
       "\n",
       "                                         description          updated  dataset  \n",
       "0  Founder of http://www.screenweek.it & http://w...  2/14/2015 10:54        1  \n",
       "1  BSc degree (cum laude) in Computer Engineering...  2/14/2015 10:54        1  \n",
       "\n",
       "[2 rows x 35 columns]"
      ]
     },
     "execution_count": 3,
     "metadata": {},
     "output_type": "execute_result"
    }
   ],
   "source": [
    "df.head(2)"
   ]
  },
  {
   "cell_type": "code",
   "execution_count": 4,
   "metadata": {},
   "outputs": [
    {
     "data": {
      "text/plain": [
       "1    1481\n",
       "2    1337\n",
       "Name: dataset, dtype: int64"
      ]
     },
     "execution_count": 4,
     "metadata": {},
     "output_type": "execute_result"
    }
   ],
   "source": [
    "df['dataset'].value_counts()"
   ]
  },
  {
   "cell_type": "code",
   "execution_count": 5,
   "metadata": {},
   "outputs": [],
   "source": [
    "real_df = df[df['dataset']==1][0:200]\n",
    "fake_df = df[df['dataset']==2][0:200]"
   ]
  },
  {
   "cell_type": "markdown",
   "metadata": {},
   "source": [
    "# Making new columns from Time "
   ]
  },
  {
   "cell_type": "code",
   "execution_count": 6,
   "metadata": {},
   "outputs": [],
   "source": [
    "df['created_at'] = pd.to_datetime(df.created_at)"
   ]
  },
  {
   "cell_type": "code",
   "execution_count": 7,
   "metadata": {},
   "outputs": [],
   "source": [
    "df['Month'] = df.created_at.dt.month"
   ]
  },
  {
   "cell_type": "code",
   "execution_count": 8,
   "metadata": {},
   "outputs": [],
   "source": [
    "df['Year'] = df.created_at.dt.year"
   ]
  },
  {
   "cell_type": "code",
   "execution_count": 9,
   "metadata": {},
   "outputs": [],
   "source": [
    "df['Time'] = df.created_at.dt.time"
   ]
  },
  {
   "cell_type": "code",
   "execution_count": 10,
   "metadata": {},
   "outputs": [
    {
     "data": {
      "text/html": [
       "<div>\n",
       "<style scoped>\n",
       "    .dataframe tbody tr th:only-of-type {\n",
       "        vertical-align: middle;\n",
       "    }\n",
       "\n",
       "    .dataframe tbody tr th {\n",
       "        vertical-align: top;\n",
       "    }\n",
       "\n",
       "    .dataframe thead th {\n",
       "        text-align: right;\n",
       "    }\n",
       "</style>\n",
       "<table border=\"1\" class=\"dataframe\">\n",
       "  <thead>\n",
       "    <tr style=\"text-align: right;\">\n",
       "      <th></th>\n",
       "      <th>id</th>\n",
       "      <th>name</th>\n",
       "      <th>screen_name</th>\n",
       "      <th>fav_number</th>\n",
       "      <th>statuses_count</th>\n",
       "      <th>followers_count</th>\n",
       "      <th>friends_count</th>\n",
       "      <th>favourites_count</th>\n",
       "      <th>listed_count</th>\n",
       "      <th>created_at</th>\n",
       "      <th>...</th>\n",
       "      <th>profile_link_color</th>\n",
       "      <th>utc_offset</th>\n",
       "      <th>protected</th>\n",
       "      <th>verified</th>\n",
       "      <th>description</th>\n",
       "      <th>updated</th>\n",
       "      <th>dataset</th>\n",
       "      <th>Month</th>\n",
       "      <th>Year</th>\n",
       "      <th>Time</th>\n",
       "    </tr>\n",
       "  </thead>\n",
       "  <tbody>\n",
       "    <tr>\n",
       "      <th>0</th>\n",
       "      <td>3610511</td>\n",
       "      <td>Davide Dellacasa</td>\n",
       "      <td>braddd</td>\n",
       "      <td>0</td>\n",
       "      <td>20370</td>\n",
       "      <td>5470</td>\n",
       "      <td>2385</td>\n",
       "      <td>145</td>\n",
       "      <td>52</td>\n",
       "      <td>2007-04-06 10:58:22+00:00</td>\n",
       "      <td>...</td>\n",
       "      <td>FF0000</td>\n",
       "      <td>3600.0</td>\n",
       "      <td>NaN</td>\n",
       "      <td>NaN</td>\n",
       "      <td>Founder of http://www.screenweek.it &amp; http://w...</td>\n",
       "      <td>2/14/2015 10:54</td>\n",
       "      <td>1</td>\n",
       "      <td>4</td>\n",
       "      <td>2007</td>\n",
       "      <td>10:58:22</td>\n",
       "    </tr>\n",
       "    <tr>\n",
       "      <th>1</th>\n",
       "      <td>5656162</td>\n",
       "      <td>Simone Economo</td>\n",
       "      <td>eKoeS</td>\n",
       "      <td>68</td>\n",
       "      <td>3131</td>\n",
       "      <td>506</td>\n",
       "      <td>381</td>\n",
       "      <td>9</td>\n",
       "      <td>40</td>\n",
       "      <td>2007-04-30 15:08:42+00:00</td>\n",
       "      <td>...</td>\n",
       "      <td>0084B4</td>\n",
       "      <td>3600.0</td>\n",
       "      <td>NaN</td>\n",
       "      <td>NaN</td>\n",
       "      <td>BSc degree (cum laude) in Computer Engineering...</td>\n",
       "      <td>2/14/2015 10:54</td>\n",
       "      <td>1</td>\n",
       "      <td>4</td>\n",
       "      <td>2007</td>\n",
       "      <td>15:08:42</td>\n",
       "    </tr>\n",
       "  </tbody>\n",
       "</table>\n",
       "<p>2 rows × 38 columns</p>\n",
       "</div>"
      ],
      "text/plain": [
       "        id              name screen_name  fav_number  statuses_count  \\\n",
       "0  3610511  Davide Dellacasa      braddd           0           20370   \n",
       "1  5656162    Simone Economo       eKoeS          68            3131   \n",
       "\n",
       "   followers_count  friends_count  favourites_count  listed_count  \\\n",
       "0             5470           2385               145            52   \n",
       "1              506            381                 9            40   \n",
       "\n",
       "                 created_at  ... profile_link_color utc_offset protected  \\\n",
       "0 2007-04-06 10:58:22+00:00  ...             FF0000     3600.0       NaN   \n",
       "1 2007-04-30 15:08:42+00:00  ...             0084B4     3600.0       NaN   \n",
       "\n",
       "  verified                                        description  \\\n",
       "0      NaN  Founder of http://www.screenweek.it & http://w...   \n",
       "1      NaN  BSc degree (cum laude) in Computer Engineering...   \n",
       "\n",
       "           updated  dataset Month  Year      Time  \n",
       "0  2/14/2015 10:54        1     4  2007  10:58:22  \n",
       "1  2/14/2015 10:54        1     4  2007  15:08:42  \n",
       "\n",
       "[2 rows x 38 columns]"
      ]
     },
     "execution_count": 10,
     "metadata": {},
     "output_type": "execute_result"
    }
   ],
   "source": [
    "df.head(2)"
   ]
  },
  {
   "cell_type": "markdown",
   "metadata": {},
   "source": [
    "# Label Encoding"
   ]
  },
  {
   "cell_type": "code",
   "execution_count": 11,
   "metadata": {},
   "outputs": [],
   "source": [
    "from sklearn import preprocessing"
   ]
  },
  {
   "cell_type": "code",
   "execution_count": 12,
   "metadata": {},
   "outputs": [],
   "source": [
    "le = preprocessing.LabelEncoder()"
   ]
  },
  {
   "cell_type": "code",
   "execution_count": 13,
   "metadata": {},
   "outputs": [
    {
     "data": {
      "text/plain": [
       "LabelEncoder()"
      ]
     },
     "execution_count": 13,
     "metadata": {},
     "output_type": "execute_result"
    }
   ],
   "source": [
    "le.fit(df['screen_name'])"
   ]
  },
  {
   "cell_type": "code",
   "execution_count": 14,
   "metadata": {},
   "outputs": [],
   "source": [
    "df['screen_name'] = le.transform(df['screen_name'])"
   ]
  },
  {
   "cell_type": "code",
   "execution_count": 15,
   "metadata": {},
   "outputs": [
    {
     "data": {
      "text/plain": [
       "LabelEncoder()"
      ]
     },
     "execution_count": 15,
     "metadata": {},
     "output_type": "execute_result"
    }
   ],
   "source": [
    "le.fit(df['name'])"
   ]
  },
  {
   "cell_type": "code",
   "execution_count": 16,
   "metadata": {},
   "outputs": [],
   "source": [
    "df['name'] = le.transform(df['name'])"
   ]
  },
  {
   "cell_type": "code",
   "execution_count": 17,
   "metadata": {},
   "outputs": [
    {
     "data": {
      "text/plain": [
       "LabelEncoder()"
      ]
     },
     "execution_count": 17,
     "metadata": {},
     "output_type": "execute_result"
    }
   ],
   "source": [
    "le.fit(df['Time'])"
   ]
  },
  {
   "cell_type": "code",
   "execution_count": 18,
   "metadata": {},
   "outputs": [],
   "source": [
    "df['Time'] = le.transform(df['Time'])"
   ]
  },
  {
   "cell_type": "code",
   "execution_count": 19,
   "metadata": {},
   "outputs": [
    {
     "data": {
      "text/plain": [
       "Index(['id', 'name', 'screen_name', 'fav_number', 'statuses_count',\n",
       "       'followers_count', 'friends_count', 'favourites_count', 'listed_count',\n",
       "       'created_at', 'url', 'lang', 'time_zone', 'location', 'default_profile',\n",
       "       'default_profile_image', 'geo_enabled', 'profile_image_url',\n",
       "       'profile_banner_url', 'profile_use_background_image',\n",
       "       'profile_background_image_url_https', 'profile_text_color',\n",
       "       'profile_image_url_https', 'profile_sidebar_border_color',\n",
       "       'profile_background_tile', 'profile_sidebar_fill_color',\n",
       "       'profile_background_image_url', 'profile_background_color',\n",
       "       'profile_link_color', 'utc_offset', 'protected', 'verified',\n",
       "       'description', 'updated', 'dataset', 'Month', 'Year', 'Time'],\n",
       "      dtype='object')"
      ]
     },
     "execution_count": 19,
     "metadata": {},
     "output_type": "execute_result"
    }
   ],
   "source": [
    "df.columns"
   ]
  },
  {
   "cell_type": "code",
   "execution_count": 20,
   "metadata": {},
   "outputs": [],
   "source": [
    "col_to_drop = ['id','created_at', 'url', 'lang', 'time_zone', 'location', 'default_profile',\n",
    "       'default_profile_image', 'geo_enabled', 'profile_image_url',\n",
    "       'profile_banner_url', 'profile_use_background_image',\n",
    "       'profile_background_image_url_https', 'profile_text_color',\n",
    "       'profile_image_url_https', 'profile_sidebar_border_color',\n",
    "       'profile_background_tile', 'profile_sidebar_fill_color',\n",
    "       'profile_background_image_url', 'profile_background_color',\n",
    "       'profile_link_color', 'utc_offset', 'protected', 'verified',\n",
    "       'description', 'updated']"
   ]
  },
  {
   "cell_type": "code",
   "execution_count": 21,
   "metadata": {},
   "outputs": [],
   "source": [
    "df = df.drop(col_to_drop,axis=1)"
   ]
  },
  {
   "cell_type": "code",
   "execution_count": 22,
   "metadata": {},
   "outputs": [
    {
     "data": {
      "text/plain": [
       "Index(['name', 'screen_name', 'fav_number', 'statuses_count',\n",
       "       'followers_count', 'friends_count', 'favourites_count', 'listed_count',\n",
       "       'dataset', 'Month', 'Year', 'Time'],\n",
       "      dtype='object')"
      ]
     },
     "execution_count": 22,
     "metadata": {},
     "output_type": "execute_result"
    }
   ],
   "source": [
    "df.columns"
   ]
  },
  {
   "cell_type": "markdown",
   "metadata": {},
   "source": [
    "# Feature Engineering"
   ]
  },
  {
   "cell_type": "code",
   "execution_count": 24,
   "metadata": {},
   "outputs": [],
   "source": [
    "X = df[['name', 'screen_name', 'fav_number', 'statuses_count',\n",
    "       'followers_count', 'friends_count', 'favourites_count', 'listed_count', 'Year', 'Month', 'Time']]"
   ]
  },
  {
   "cell_type": "code",
   "execution_count": 25,
   "metadata": {},
   "outputs": [],
   "source": [
    "y = df['dataset']"
   ]
  },
  {
   "cell_type": "code",
   "execution_count": 26,
   "metadata": {},
   "outputs": [
    {
     "data": {
      "text/html": [
       "<div>\n",
       "<style scoped>\n",
       "    .dataframe tbody tr th:only-of-type {\n",
       "        vertical-align: middle;\n",
       "    }\n",
       "\n",
       "    .dataframe tbody tr th {\n",
       "        vertical-align: top;\n",
       "    }\n",
       "\n",
       "    .dataframe thead th {\n",
       "        text-align: right;\n",
       "    }\n",
       "</style>\n",
       "<table border=\"1\" class=\"dataframe\">\n",
       "  <thead>\n",
       "    <tr style=\"text-align: right;\">\n",
       "      <th></th>\n",
       "      <th>name</th>\n",
       "      <th>screen_name</th>\n",
       "      <th>fav_number</th>\n",
       "      <th>statuses_count</th>\n",
       "      <th>followers_count</th>\n",
       "      <th>friends_count</th>\n",
       "      <th>favourites_count</th>\n",
       "      <th>listed_count</th>\n",
       "      <th>Year</th>\n",
       "      <th>Month</th>\n",
       "      <th>Time</th>\n",
       "    </tr>\n",
       "  </thead>\n",
       "  <tbody>\n",
       "    <tr>\n",
       "      <th>0</th>\n",
       "      <td>573</td>\n",
       "      <td>1106</td>\n",
       "      <td>0</td>\n",
       "      <td>20370</td>\n",
       "      <td>5470</td>\n",
       "      <td>2385</td>\n",
       "      <td>145</td>\n",
       "      <td>52</td>\n",
       "      <td>2007</td>\n",
       "      <td>4</td>\n",
       "      <td>763</td>\n",
       "    </tr>\n",
       "    <tr>\n",
       "      <th>1</th>\n",
       "      <td>2251</td>\n",
       "      <td>1409</td>\n",
       "      <td>68</td>\n",
       "      <td>3131</td>\n",
       "      <td>506</td>\n",
       "      <td>381</td>\n",
       "      <td>9</td>\n",
       "      <td>40</td>\n",
       "      <td>2007</td>\n",
       "      <td>4</td>\n",
       "      <td>1282</td>\n",
       "    </tr>\n",
       "    <tr>\n",
       "      <th>2</th>\n",
       "      <td>2767</td>\n",
       "      <td>2626</td>\n",
       "      <td>7696</td>\n",
       "      <td>4024</td>\n",
       "      <td>264</td>\n",
       "      <td>87</td>\n",
       "      <td>323</td>\n",
       "      <td>16</td>\n",
       "      <td>2007</td>\n",
       "      <td>5</td>\n",
       "      <td>872</td>\n",
       "    </tr>\n",
       "    <tr>\n",
       "      <th>3</th>\n",
       "      <td>2527</td>\n",
       "      <td>942</td>\n",
       "      <td>202</td>\n",
       "      <td>40586</td>\n",
       "      <td>640</td>\n",
       "      <td>622</td>\n",
       "      <td>1118</td>\n",
       "      <td>32</td>\n",
       "      <td>2007</td>\n",
       "      <td>5</td>\n",
       "      <td>1880</td>\n",
       "    </tr>\n",
       "    <tr>\n",
       "      <th>4</th>\n",
       "      <td>157</td>\n",
       "      <td>680</td>\n",
       "      <td>37318</td>\n",
       "      <td>2016</td>\n",
       "      <td>62</td>\n",
       "      <td>64</td>\n",
       "      <td>13</td>\n",
       "      <td>0</td>\n",
       "      <td>2007</td>\n",
       "      <td>5</td>\n",
       "      <td>2257</td>\n",
       "    </tr>\n",
       "    <tr>\n",
       "      <th>5</th>\n",
       "      <td>327</td>\n",
       "      <td>1291</td>\n",
       "      <td>3901</td>\n",
       "      <td>3603</td>\n",
       "      <td>138</td>\n",
       "      <td>179</td>\n",
       "      <td>53</td>\n",
       "      <td>1</td>\n",
       "      <td>2007</td>\n",
       "      <td>5</td>\n",
       "      <td>1299</td>\n",
       "    </tr>\n",
       "  </tbody>\n",
       "</table>\n",
       "</div>"
      ],
      "text/plain": [
       "   name  screen_name  fav_number  statuses_count  followers_count  \\\n",
       "0   573         1106           0           20370             5470   \n",
       "1  2251         1409          68            3131              506   \n",
       "2  2767         2626        7696            4024              264   \n",
       "3  2527          942         202           40586              640   \n",
       "4   157          680       37318            2016               62   \n",
       "5   327         1291        3901            3603              138   \n",
       "\n",
       "   friends_count  favourites_count  listed_count  Year  Month  Time  \n",
       "0           2385               145            52  2007      4   763  \n",
       "1            381                 9            40  2007      4  1282  \n",
       "2             87               323            16  2007      5   872  \n",
       "3            622              1118            32  2007      5  1880  \n",
       "4             64                13             0  2007      5  2257  \n",
       "5            179                53             1  2007      5  1299  "
      ]
     },
     "execution_count": 26,
     "metadata": {},
     "output_type": "execute_result"
    }
   ],
   "source": [
    "X[0:6]"
   ]
  },
  {
   "cell_type": "markdown",
   "metadata": {},
   "source": [
    "# Train Test Split"
   ]
  },
  {
   "cell_type": "code",
   "execution_count": 27,
   "metadata": {},
   "outputs": [],
   "source": [
    "from sklearn.model_selection import train_test_split"
   ]
  },
  {
   "cell_type": "code",
   "execution_count": 28,
   "metadata": {},
   "outputs": [],
   "source": [
    "X_train,X_test,y_train,y_test = train_test_split(X,y,test_size = 0.2 , random_state = 4)"
   ]
  },
  {
   "cell_type": "code",
   "execution_count": 29,
   "metadata": {},
   "outputs": [
    {
     "data": {
      "text/plain": [
       "(2254, 11)"
      ]
     },
     "execution_count": 29,
     "metadata": {},
     "output_type": "execute_result"
    }
   ],
   "source": [
    "X_train.shape"
   ]
  },
  {
   "cell_type": "code",
   "execution_count": 30,
   "metadata": {},
   "outputs": [
    {
     "data": {
      "text/plain": [
       "(2254,)"
      ]
     },
     "execution_count": 30,
     "metadata": {},
     "output_type": "execute_result"
    }
   ],
   "source": [
    "y_train.shape"
   ]
  },
  {
   "cell_type": "code",
   "execution_count": 31,
   "metadata": {},
   "outputs": [
    {
     "data": {
      "text/plain": [
       "(564, 11)"
      ]
     },
     "execution_count": 31,
     "metadata": {},
     "output_type": "execute_result"
    }
   ],
   "source": [
    "X_test.shape"
   ]
  },
  {
   "cell_type": "code",
   "execution_count": 32,
   "metadata": {},
   "outputs": [
    {
     "data": {
      "text/plain": [
       "(564,)"
      ]
     },
     "execution_count": 32,
     "metadata": {},
     "output_type": "execute_result"
    }
   ],
   "source": [
    "y_test.shape"
   ]
  },
  {
   "cell_type": "markdown",
   "metadata": {},
   "source": [
    "# Decision Tree Classifier "
   ]
  },
  {
   "cell_type": "code",
   "execution_count": 33,
   "metadata": {},
   "outputs": [],
   "source": [
    "from sklearn import tree"
   ]
  },
  {
   "cell_type": "code",
   "execution_count": 34,
   "metadata": {},
   "outputs": [],
   "source": [
    "clf = tree.DecisionTreeClassifier(max_depth= 5)"
   ]
  },
  {
   "cell_type": "code",
   "execution_count": 35,
   "metadata": {},
   "outputs": [
    {
     "data": {
      "text/plain": [
       "DecisionTreeClassifier(ccp_alpha=0.0, class_weight=None, criterion='gini',\n",
       "                       max_depth=5, max_features=None, max_leaf_nodes=None,\n",
       "                       min_impurity_decrease=0.0, min_impurity_split=None,\n",
       "                       min_samples_leaf=1, min_samples_split=2,\n",
       "                       min_weight_fraction_leaf=0.0, presort='deprecated',\n",
       "                       random_state=None, splitter='best')"
      ]
     },
     "execution_count": 35,
     "metadata": {},
     "output_type": "execute_result"
    }
   ],
   "source": [
    "clf.fit(X_train,y_train)"
   ]
  },
  {
   "cell_type": "code",
   "execution_count": 36,
   "metadata": {},
   "outputs": [
    {
     "data": {
      "text/plain": [
       "0.9893617021276596"
      ]
     },
     "execution_count": 36,
     "metadata": {},
     "output_type": "execute_result"
    }
   ],
   "source": [
    "clf.score(X_test, y_test)"
   ]
  },
  {
   "cell_type": "code",
   "execution_count": 37,
   "metadata": {},
   "outputs": [],
   "source": [
    "y_predict = clf.predict(X_test)"
   ]
  },
  {
   "cell_type": "markdown",
   "metadata": {},
   "source": [
    "# Getting the Classification Report and Confusion Matrix"
   ]
  },
  {
   "cell_type": "code",
   "execution_count": 38,
   "metadata": {},
   "outputs": [],
   "source": [
    "from sklearn.metrics import classification_report,confusion_matrix\n",
    "from sklearn.metrics import accuracy_score"
   ]
  },
  {
   "cell_type": "code",
   "execution_count": 39,
   "metadata": {},
   "outputs": [
    {
     "name": "stdout",
     "output_type": "stream",
     "text": [
      "              precision    recall  f1-score   support\n",
      "\n",
      "           1       0.99      0.99      0.99       296\n",
      "           2       0.99      0.99      0.99       268\n",
      "\n",
      "    accuracy                           0.99       564\n",
      "   macro avg       0.99      0.99      0.99       564\n",
      "weighted avg       0.99      0.99      0.99       564\n",
      "\n"
     ]
    }
   ],
   "source": [
    "print(classification_report(y_predict,y_test.values))"
   ]
  },
  {
   "cell_type": "code",
   "execution_count": 40,
   "metadata": {},
   "outputs": [
    {
     "name": "stdout",
     "output_type": "stream",
     "text": [
      "Accuracy Score: 0.9893617021276596\n"
     ]
    }
   ],
   "source": [
    "print('Accuracy Score:' ,accuracy_score(y_predict,y_test.values))"
   ]
  },
  {
   "cell_type": "code",
   "execution_count": 41,
   "metadata": {},
   "outputs": [
    {
     "name": "stdout",
     "output_type": "stream",
     "text": [
      "[[298   0]\n",
      " [  0 266]]\n"
     ]
    }
   ],
   "source": [
    "print(confusion_matrix(y_test, y_test))"
   ]
  },
  {
   "cell_type": "markdown",
   "metadata": {},
   "source": [
    "# GradientBoostingClassifier"
   ]
  },
  {
   "cell_type": "code",
   "execution_count": 42,
   "metadata": {},
   "outputs": [],
   "source": [
    "from sklearn.datasets import make_classification"
   ]
  },
  {
   "cell_type": "code",
   "execution_count": 43,
   "metadata": {},
   "outputs": [],
   "source": [
    "from sklearn.ensemble import GradientBoostingClassifier"
   ]
  },
  {
   "cell_type": "code",
   "execution_count": 44,
   "metadata": {},
   "outputs": [],
   "source": [
    "clfgb = GradientBoostingClassifier(random_state=0)"
   ]
  },
  {
   "cell_type": "code",
   "execution_count": 45,
   "metadata": {},
   "outputs": [
    {
     "data": {
      "text/plain": [
       "GradientBoostingClassifier(ccp_alpha=0.0, criterion='friedman_mse', init=None,\n",
       "                           learning_rate=0.1, loss='deviance', max_depth=3,\n",
       "                           max_features=None, max_leaf_nodes=None,\n",
       "                           min_impurity_decrease=0.0, min_impurity_split=None,\n",
       "                           min_samples_leaf=1, min_samples_split=2,\n",
       "                           min_weight_fraction_leaf=0.0, n_estimators=100,\n",
       "                           n_iter_no_change=None, presort='deprecated',\n",
       "                           random_state=0, subsample=1.0, tol=0.0001,\n",
       "                           validation_fraction=0.1, verbose=0,\n",
       "                           warm_start=False)"
      ]
     },
     "execution_count": 45,
     "metadata": {},
     "output_type": "execute_result"
    }
   ],
   "source": [
    "clfgb.fit(X_train, y_train)"
   ]
  },
  {
   "cell_type": "code",
   "execution_count": 46,
   "metadata": {},
   "outputs": [
    {
     "data": {
      "text/plain": [
       "array([2, 1], dtype=int64)"
      ]
     },
     "execution_count": 46,
     "metadata": {},
     "output_type": "execute_result"
    }
   ],
   "source": [
    "clfgb.predict(X_test[:2])"
   ]
  },
  {
   "cell_type": "code",
   "execution_count": 47,
   "metadata": {},
   "outputs": [
    {
     "data": {
      "text/plain": [
       "0.9964539007092199"
      ]
     },
     "execution_count": 47,
     "metadata": {},
     "output_type": "execute_result"
    }
   ],
   "source": [
    "clfgb.score(X_test, y_test)"
   ]
  },
  {
   "cell_type": "markdown",
   "metadata": {},
   "source": [
    "# Visualizing Decision Trees"
   ]
  },
  {
   "cell_type": "code",
   "execution_count": 48,
   "metadata": {},
   "outputs": [
    {
     "name": "stderr",
     "output_type": "stream",
     "text": [
      "C:\\ProgramData\\Anaconda3\\lib\\site-packages\\sklearn\\externals\\six.py:31: FutureWarning: The module is deprecated in version 0.21 and will be removed in version 0.23 since we've dropped support for Python 2.7. Please rely on the official version of six (https://pypi.org/project/six/).\n",
      "  \"(https://pypi.org/project/six/).\", FutureWarning)\n"
     ]
    }
   ],
   "source": [
    "from sklearn.externals.six import StringIO "
   ]
  },
  {
   "cell_type": "code",
   "execution_count": 49,
   "metadata": {},
   "outputs": [],
   "source": [
    "from IPython.display import Image"
   ]
  },
  {
   "cell_type": "code",
   "execution_count": 50,
   "metadata": {},
   "outputs": [],
   "source": [
    "from sklearn.tree import export_graphviz"
   ]
  },
  {
   "cell_type": "code",
   "execution_count": 51,
   "metadata": {},
   "outputs": [],
   "source": [
    "import pydotplus"
   ]
  },
  {
   "cell_type": "code",
   "execution_count": 52,
   "metadata": {},
   "outputs": [],
   "source": [
    "dot_data = StringIO()"
   ]
  },
  {
   "cell_type": "code",
   "execution_count": 62,
   "metadata": {},
   "outputs": [],
   "source": [
    "#export_graphviz(clf, out_file=dot_data,  \n",
    "                ##filled=True, rounded=True,\n",
    "               # special_characters=True,feature_names = features_df,class_names=['1','2'])"
   ]
  },
  {
   "cell_type": "code",
   "execution_count": 64,
   "metadata": {},
   "outputs": [],
   "source": [
    "#tree.export_graphviz(clf,\n",
    "#                     out_file=\"tree.dot\",\n",
    "#                    feature_names = X, \n",
    "#                     class_names=['1','2'],\n",
    "#                    filled = True)"
   ]
  },
  {
   "cell_type": "markdown",
   "metadata": {},
   "source": [
    "# MEthod 2"
   ]
  },
  {
   "cell_type": "code",
   "execution_count": 56,
   "metadata": {},
   "outputs": [],
   "source": [
    "from sklearn import tree"
   ]
  },
  {
   "cell_type": "code",
   "execution_count": 57,
   "metadata": {},
   "outputs": [
    {
     "data": {
      "image/png": "[encoded data removed]",
      "text/plain": [
       "<Figure size 432x288 with 1 Axes>"
      ]
     },
     "metadata": {
      "needs_background": "light"
     },
     "output_type": "display_data"
    }
   ],
   "source": [
    "tree.plot_tree(clf);"
   ]
  },
  {
   "cell_type": "code",
   "execution_count": 58,
   "metadata": {},
   "outputs": [
    {
     "data": {
      "image/png": "[encoded data removed]",
      "text/plain": [
       "<Figure size 1200x1200 with 1 Axes>"
      ]
     },
     "metadata": {
      "needs_background": "light"
     },
     "output_type": "display_data"
    }
   ],
   "source": [
    "features_df =['name', 'screen_name', 'fav_number', 'statuses_count',\n",
    "       'followers_count', 'friends_count', 'favourites_count', 'listed_count', 'Month', 'Year', 'Time']\n",
    "cn=['Real','Fake']\n",
    "fig, axes = plt.subplots(nrows = 1,ncols = 1,figsize = (4,4), dpi=300)\n",
    "tree.plot_tree(clf,\n",
    "               feature_names = features_df, \n",
    "               class_names=cn,\n",
    "               filled = True);\n",
    "fig.savefig('DecisionTree.png')"
   ]
  },
  {
   "cell_type": "code",
   "execution_count": null,
   "metadata": {},
   "outputs": [],
   "source": []
  }
 ],
 "metadata": {
  "kernelspec": {
   "display_name": "Python 3",
   "language": "python",
   "name": "python3"
  },
  "language_info": {
   "codemirror_mode": {
    "name": "ipython",
    "version": 3
   },
   "file_extension": ".py",
   "mimetype": "text/x-python",
   "name": "python",
   "nbconvert_exporter": "python",
   "pygments_lexer": "ipython3",
   "version": "3.7.6"
  }
 },
 "nbformat": 4,
 "nbformat_minor": 4
}
